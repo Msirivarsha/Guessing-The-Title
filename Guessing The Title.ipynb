{
 "cells": [
  {
   "cell_type": "code",
   "execution_count": 1,
   "id": "82b14bab",
   "metadata": {},
   "outputs": [],
   "source": [
    "import pandas as pd\n",
    "from nltk.tokenize import word_tokenize, sent_tokenize\n",
    "from nltk.corpus import stopwords\n",
    " \n",
    "corpus_1=\"India, officially the Republic of India, is a country in South Asia. It is the seventh-largest country by area. The most populous country as of June 2023, and from the time of its independence in 1947, the world's most populous democracy. Bounded by the Indian Ocean on the south, the Arabian Sea on the southwest, and the Bay of Bengal on the southeast. It shares land borders with Pakistan to the west; China, Nepal, and Bhutan to the north. And Bangladesh and Myanmar to the east. In the Indian Ocean, India is in the vicinity of Sri Lanka and the Maldives. Its Andaman and Nicobar Islands share a maritime border with Thailand, Myanmar, and Indonesia.\"\n",
    "corpus_2=\"The Voyager program is an American scientific program that employs two interstellar probes, Voyager program 1 and Voyager program 2. voyager were launched in 1977 to take advantage of a favorable alignment of the two gas giants Jupiter and Saturn and the ice giants, Uranus and Neptune, to fly near them while collecting data for transmission back to Earth. After launch, the decision was made to send Voyager 2 near Uranus and Neptune to collect data for transmission back to Earth. As of 2024, the Voyagers are still in operation beyond the outer boundary of the heliosphere in interstellar space. They collect and transmit useful data to Earth.\"\n",
    "corpus_3=\"A black hole is a region of spacetime where gravity is so strong that nothing, including light and other electromagnetic waves, is capable of possessing enough energy to escape it. Einstein's theory of general relativity predicts that a sufficiently compact mass can deform spacetime to form a black hole. The boundary of no escape is called the event horizon. A black hole has a great effect on the fate and circumstances of an object crossing it, but it has no locally detectable features according to general relativity. I many ways, a black hole acts like an ideal black body, as it reflects no light. Quantum field theory in curved spacetime predicts that event horizons emit Hawking radiation, with the same spectrum as a black body of a temperature inversely proportional to its mass. This temperature is of the order of billionths of a kelvin for stellar black holes, making it essentially impossible to observe directly.\"\n",
    "corpus_4=\"Stephen William Hawking, CH, CBE, FRS, FRSA (8 January 1942 – 14 March 2018) was an English theoretical physicist, cosmologist, and author who was director of research at the Centre for Theoretical Cosmology at the University of Cambridge. Between 1979 and 2009, he was the Lucasian Professor of Mathematics at Cambridge, widely viewed as one of the most prestigious academic posts in the world. Hawking was born in Oxford into a family of physicians. In October 1959, at the age of 17, he began his university education at University College, Oxford, where he received a first-class BA degree in physics. In October 1962, he began his graduate work at Trinity Hall, Cambridge, where, in March 1966, he obtained his PhD degree in applied mathematics and theoretical physics, specialising in general relativity and cosmology. In 1963, at age 21, Hawking was diagnosed with an early-onset slow-progressing form of motor neurone disease that gradually, over decades, paralysed him. After the loss of his speech, he communicated through a speech-generating device initially through use of a handheld switch, and eventually by using a single cheek muscle\""
   ]
  },
  {
   "cell_type": "markdown",
   "id": "76febcb7",
   "metadata": {},
   "source": [
    "## Remove Stop Words and Special Characters"
   ]
  },
  {
   "cell_type": "code",
   "execution_count": 12,
   "id": "5339e995",
   "metadata": {},
   "outputs": [
    {
     "data": {
      "text/plain": [
       "45"
      ]
     },
     "execution_count": 12,
     "metadata": {},
     "output_type": "execute_result"
    }
   ],
   "source": [
    "words=[]\n",
    "for word in word_tokenize(corpus_2):\n",
    "    if(word.lower() not in stopwords.words('english')) and (len(word)>=2):\n",
    "        words.append(word.lower())\n",
    "vocab=list(set(words))\n",
    "len(set(words))"
   ]
  },
  {
   "cell_type": "code",
   "execution_count": 13,
   "id": "caade6ba",
   "metadata": {},
   "outputs": [
    {
     "data": {
      "text/plain": [
       "'2024 data voyagers uranus giants interstellar program useful launched space advantage operation american saturn outer still voyager made favorable 2. scientific two transmission boundary send take employs 1977 alignment fly launch neptune near decision gas transmit probes ice earth collect collecting heliosphere jupiter back beyond'"
      ]
     },
     "execution_count": 13,
     "metadata": {},
     "output_type": "execute_result"
    }
   ],
   "source": [
    "' '.join(vocab)"
   ]
  },
  {
   "cell_type": "markdown",
   "id": "21f2fd88",
   "metadata": {},
   "source": [
    "## Creating Count Dictionary"
   ]
  },
  {
   "cell_type": "code",
   "execution_count": 14,
   "id": "5c378d02",
   "metadata": {},
   "outputs": [],
   "source": [
    "word_freq={}\n",
    "for word in vocab:\n",
    "    word_freq[word]=0"
   ]
  },
  {
   "cell_type": "markdown",
   "id": "4de62172",
   "metadata": {},
   "source": [
    "## Count the Frequency of Words"
   ]
  },
  {
   "cell_type": "code",
   "execution_count": 15,
   "id": "dfdc12e9",
   "metadata": {},
   "outputs": [],
   "source": [
    "# words=[]\n",
    "# for word in word_tokenize(corpus_2):\n",
    "#     if(word.lower() not in stopwords.words('english')) and (len(word)>=2):\n",
    "#         words.append(word.lower())\n",
    "# vocab=list(set(words))\n",
    "# len(set(words))\n",
    "\n",
    "for word in words:\n",
    "    word_freq[word]=word_freq[word]+1"
   ]
  },
  {
   "cell_type": "markdown",
   "id": "78915b5f",
   "metadata": {},
   "source": [
    "## Creating DataFrame for Sorting"
   ]
  },
  {
   "cell_type": "code",
   "execution_count": 16,
   "id": "c0d13e16",
   "metadata": {},
   "outputs": [
    {
     "data": {
      "text/html": [
       "<div>\n",
       "<style scoped>\n",
       "    .dataframe tbody tr th:only-of-type {\n",
       "        vertical-align: middle;\n",
       "    }\n",
       "\n",
       "    .dataframe tbody tr th {\n",
       "        vertical-align: top;\n",
       "    }\n",
       "\n",
       "    .dataframe thead th {\n",
       "        text-align: right;\n",
       "    }\n",
       "</style>\n",
       "<table border=\"1\" class=\"dataframe\">\n",
       "  <thead>\n",
       "    <tr style=\"text-align: right;\">\n",
       "      <th></th>\n",
       "      <th>word</th>\n",
       "      <th>freq</th>\n",
       "    </tr>\n",
       "  </thead>\n",
       "  <tbody>\n",
       "    <tr>\n",
       "      <th>16</th>\n",
       "      <td>voyager</td>\n",
       "      <td>5</td>\n",
       "    </tr>\n",
       "    <tr>\n",
       "      <th>6</th>\n",
       "      <td>program</td>\n",
       "      <td>4</td>\n",
       "    </tr>\n",
       "    <tr>\n",
       "      <th>1</th>\n",
       "      <td>data</td>\n",
       "      <td>3</td>\n",
       "    </tr>\n",
       "  </tbody>\n",
       "</table>\n",
       "</div>"
      ],
      "text/plain": [
       "       word  freq\n",
       "16  voyager     5\n",
       "6   program     4\n",
       "1      data     3"
      ]
     },
     "execution_count": 16,
     "metadata": {},
     "output_type": "execute_result"
    }
   ],
   "source": [
    "data=[]\n",
    "for key in word_freq.keys():\n",
    "    data.append([key, word_freq[key]])\n",
    "    \n",
    "df=pd.DataFrame(data,columns=['word','freq'])\n",
    "\n",
    "df.sort_values(by='freq',ascending=False).head(3)"
   ]
  }
 ],
 "metadata": {
  "kernelspec": {
   "display_name": "Python 3 (ipykernel)",
   "language": "python",
   "name": "python3"
  },
  "language_info": {
   "codemirror_mode": {
    "name": "ipython",
    "version": 3
   },
   "file_extension": ".py",
   "mimetype": "text/x-python",
   "name": "python",
   "nbconvert_exporter": "python",
   "pygments_lexer": "ipython3",
   "version": "3.11.5"
  }
 },
 "nbformat": 4,
 "nbformat_minor": 5
}
